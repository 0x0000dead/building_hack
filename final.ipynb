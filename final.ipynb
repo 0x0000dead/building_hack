{
 "cells": [
  {
   "cell_type": "code",
   "execution_count": 1,
   "id": "a0e0b8f1",
   "metadata": {
    "_cell_guid": "b1076dfc-b9ad-4769-8c92-a6c4dae69d19",
    "_uuid": "8f2839f25d086af736a60e9eeb907d3b93b6e0e5",
    "execution": {
     "iopub.execute_input": "2023-06-25T05:21:15.886340Z",
     "iopub.status.busy": "2023-06-25T05:21:15.885806Z",
     "iopub.status.idle": "2023-06-25T05:21:17.760068Z",
     "shell.execute_reply": "2023-06-25T05:21:17.758906Z"
    },
    "papermill": {
     "duration": 1.888129,
     "end_time": "2023-06-25T05:21:17.762896",
     "exception": false,
     "start_time": "2023-06-25T05:21:15.874767",
     "status": "completed"
    },
    "tags": []
   },
   "outputs": [],
   "source": [
    "import pandas as pd\n",
    "import catboost as cb\n",
    "from datetime import date\n",
    "from dateutil.relativedelta import relativedelta"
   ]
  },
  {
   "cell_type": "code",
   "execution_count": 2,
   "id": "6767d5ab",
   "metadata": {
    "execution": {
     "iopub.execute_input": "2023-06-25T05:21:17.782343Z",
     "iopub.status.busy": "2023-06-25T05:21:17.781916Z",
     "iopub.status.idle": "2023-06-25T05:21:21.216514Z",
     "shell.execute_reply": "2023-06-25T05:21:21.215512Z"
    },
    "papermill": {
     "duration": 3.447403,
     "end_time": "2023-06-25T05:21:21.219299",
     "exception": false,
     "start_time": "2023-06-25T05:21:17.771896",
     "status": "completed"
    },
    "tags": []
   },
   "outputs": [],
   "source": [
    "# лоадим трейн + доп трейн\n",
    "\n",
    "train = pd.read_csv('/kaggle/input/hackaton-dc/train_dataset_Дипстрой/dataset_ksg.csv')\n",
    "attr = pd.read_csv('/kaggle/input/hackaton-dc/train_dataset_Дипстрой/attr.csv')\n",
    "\n",
    "# создаем дикт с задачами, сдвиги по которым будем предсказывать\n",
    "\n",
    "tasks_ex = pd.read_excel('/kaggle/input/hackaton-dc/train_dataset_Дипстрой/.xlsx')\n",
    "tasks = pd.Series(tasks_ex['НазваниеЗадачи'].values,index=tasks_ex['Кодзадачи']).to_dict()"
   ]
  },
  {
   "cell_type": "code",
   "execution_count": 3,
   "id": "b8759614",
   "metadata": {
    "execution": {
     "iopub.execute_input": "2023-06-25T05:21:21.239721Z",
     "iopub.status.busy": "2023-06-25T05:21:21.239104Z",
     "iopub.status.idle": "2023-06-25T05:21:21.909293Z",
     "shell.execute_reply": "2023-06-25T05:21:21.908153Z"
    },
    "papermill": {
     "duration": 0.684089,
     "end_time": "2023-06-25T05:21:21.912345",
     "exception": false,
     "start_time": "2023-06-25T05:21:21.228256",
     "status": "completed"
    },
    "tags": []
   },
   "outputs": [],
   "source": [
    "# нужно выкинуть все NaN значения по понятным причинам (если тут отсутсвтует либо дата начала, либо\n",
    "# дата окончания, то предсказание невозможно)\n",
    "\n",
    "train = train.dropna(subset=['ДатаНачалаЗадачи', 'ДатаОкончанияЗадачи','ДатаначалаБП0', 'ДатаокончанияБП0'])"
   ]
  },
  {
   "cell_type": "code",
   "execution_count": 4,
   "id": "390beb4e",
   "metadata": {
    "execution": {
     "iopub.execute_input": "2023-06-25T05:21:21.931439Z",
     "iopub.status.busy": "2023-06-25T05:21:21.931042Z",
     "iopub.status.idle": "2023-06-25T05:21:27.940543Z",
     "shell.execute_reply": "2023-06-25T05:21:27.939389Z"
    },
    "papermill": {
     "duration": 6.02209,
     "end_time": "2023-06-25T05:21:27.943152",
     "exception": false,
     "start_time": "2023-06-25T05:21:21.921062",
     "status": "completed"
    },
    "tags": []
   },
   "outputs": [],
   "source": [
    "# переводим строчки в формат даты ДатаначалаБП0\n",
    "\n",
    "train['ДатаНачалаЗадачи'] = pd.to_datetime(train['ДатаНачалаЗадачи'])\n",
    "train['ДатаОкончанияЗадачи'] = pd.to_datetime(train['ДатаОкончанияЗадачи'])\n",
    "train['ДатаначалаБП0'] = pd.to_datetime(train['ДатаначалаБП0'])\n",
    "train['ДатаокончанияБП0'] = pd.to_datetime(train['ДатаокончанияБП0'])\n",
    "\n",
    "# переводим в юникс время\n",
    "\n",
    "train['ДатаНачалаЗадачи'] = train['ДатаНачалаЗадачи'].apply(lambda x: x.timestamp())\n",
    "train['ДатаОкончанияЗадачи'] = train['ДатаОкончанияЗадачи'].apply(lambda x: x.timestamp())\n",
    "train['ДатаначалаБП0'] = train['ДатаначалаБП0'].apply(lambda x: x.timestamp())\n",
    "train['ДатаокончанияБП0'] = train['ДатаокончанияБП0'].apply(lambda x: x.timestamp())\n",
    "\n",
    "# создаем колонку таргета. Идея такая: предсказываем таргет (= время в секундах от начала до конца задачи)\n",
    "# переводим секунды в дни, прибавляем к дате начала задачи семпла - получаем ответ\n",
    "\n",
    "\n",
    "# target перевожу в дни - будем предиктить число дней\n",
    "# фича plan_time - кол-во дней между плановой датой окончания и начала по договору\n",
    "\n",
    "#train['fact_time'] = 0\n",
    "#train['fact_time'] = (train['ДатаОкончанияЗадачи'] - train['ДатаНачалаЗадачи'])/60/60/24\n",
    "train['plan_time'] = 0\n",
    "train['plan_time'] = (train['ДатаокончанияБП0'] - train['ДатаначалаБП0'])/60/60/24\n",
    "\n",
    "train['target']=(train['ДатаОкончанияЗадачи'] - train['ДатаокончанияБП0'])/60/60/24"
   ]
  },
  {
   "cell_type": "markdown",
   "id": "7958c238",
   "metadata": {
    "papermill": {
     "duration": 0.008445,
     "end_time": "2023-06-25T05:21:27.961825",
     "exception": false,
     "start_time": "2023-06-25T05:21:27.953380",
     "status": "completed"
    },
    "tags": []
   },
   "source": [
    "Всего 28 уникальных объектов и в аттрибутах есть лишние объекты:"
   ]
  },
  {
   "cell_type": "code",
   "execution_count": 5,
   "id": "f23c0746",
   "metadata": {
    "execution": {
     "iopub.execute_input": "2023-06-25T05:21:27.981516Z",
     "iopub.status.busy": "2023-06-25T05:21:27.980799Z",
     "iopub.status.idle": "2023-06-25T05:21:28.040205Z",
     "shell.execute_reply": "2023-06-25T05:21:28.039059Z"
    },
    "papermill": {
     "duration": 0.072846,
     "end_time": "2023-06-25T05:21:28.043322",
     "exception": false,
     "start_time": "2023-06-25T05:21:27.970476",
     "status": "completed"
    },
    "tags": []
   },
   "outputs": [
    {
     "name": "stdout",
     "output_type": "stream",
     "text": [
      "28\n",
      "34\n"
     ]
    }
   ],
   "source": [
    "print(len(train['obj_key'].unique()))\n",
    "print(len(attr['obj_key'].unique()))\n",
    "\n",
    "list_of_objects = train['obj_key'].unique()"
   ]
  },
  {
   "cell_type": "markdown",
   "id": "2c6c19c8",
   "metadata": {
    "papermill": {
     "duration": 0.008609,
     "end_time": "2023-06-25T05:21:28.060847",
     "exception": false,
     "start_time": "2023-06-25T05:21:28.052238",
     "status": "completed"
    },
    "tags": []
   },
   "source": [
    "Вытянем из аттрибутов доп фичи:"
   ]
  },
  {
   "cell_type": "code",
   "execution_count": 6,
   "id": "1e373a07",
   "metadata": {
    "execution": {
     "iopub.execute_input": "2023-06-25T05:21:28.080210Z",
     "iopub.status.busy": "2023-06-25T05:21:28.079607Z",
     "iopub.status.idle": "2023-06-25T05:21:36.233137Z",
     "shell.execute_reply": "2023-06-25T05:21:36.232180Z"
    },
    "papermill": {
     "duration": 8.166433,
     "end_time": "2023-06-25T05:21:36.235966",
     "exception": false,
     "start_time": "2023-06-25T05:21:28.069533",
     "status": "completed"
    },
    "tags": []
   },
   "outputs": [],
   "source": [
    "train['состояние площадки'] = ' '\n",
    "train['Площадь'] = 0\n",
    "train['Генпроектировщик'] = 0\n",
    "train['Генподрядчик'] = 0\n",
    "train['Кол-во рабочих'] = 0\n",
    "\n",
    "for obj in list_of_objects:\n",
    "    train.loc[train['obj_key']==obj,'состояние площадки'] = attr[attr['obj_key']==obj]['состояние площадки'].values[0]\n",
    "    train.loc[train['obj_key']==obj,'Площадь'] = attr[attr['obj_key']==obj]['Площадь'].values[0]\n",
    "    train.loc[train['obj_key']==obj,'Генпроектировщик'] = attr[attr['obj_key']==obj]['Генпроектировщик'].values[0]\n",
    "    train.loc[train['obj_key']==obj,'Генподрядчик'] = attr[attr['obj_key']==obj]['Генподрядчик'].values[0]\n",
    "    train.loc[train['obj_key']==obj,'Кол-во рабочих'] = attr[attr['obj_key']==obj]['Кол-во рабочих'].values[0]"
   ]
  },
  {
   "cell_type": "markdown",
   "id": "cc7c3ef3",
   "metadata": {
    "papermill": {
     "duration": 0.008363,
     "end_time": "2023-06-25T05:21:36.253252",
     "exception": false,
     "start_time": "2023-06-25T05:21:36.244889",
     "status": "completed"
    },
    "tags": []
   },
   "source": [
    "что не будет использоваться:\n",
    "\n",
    "Фичи 'ДатаНачалаЗадачи', 'ДатаОкончанияЗадачи','ДатаначалаБП0', 'ДатаокончанияБП0', 'Статуспоэкспертизе', 'Экспертиза', 'date_report' - не используем в модели (первые 4 берем, чтобы получить 2 новых фичи, которые уже заюзаем"
   ]
  },
  {
   "cell_type": "code",
   "execution_count": 7,
   "id": "2ca08551",
   "metadata": {
    "execution": {
     "iopub.execute_input": "2023-06-25T05:21:36.272009Z",
     "iopub.status.busy": "2023-06-25T05:21:36.271601Z",
     "iopub.status.idle": "2023-06-25T05:21:36.407031Z",
     "shell.execute_reply": "2023-06-25T05:21:36.406109Z"
    },
    "papermill": {
     "duration": 0.147954,
     "end_time": "2023-06-25T05:21:36.409691",
     "exception": false,
     "start_time": "2023-06-25T05:21:36.261737",
     "status": "completed"
    },
    "tags": []
   },
   "outputs": [],
   "source": [
    "train = train[['obj_prg', 'obj_subprg', 'obj_key', 'Кодзадачи',\n",
    "       'НазваниеЗадачи', 'ПроцентЗавершенияЗадачи',\n",
    "       'plan_time', 'target', 'состояние площадки', 'Площадь',\n",
    "       'Генпроектировщик', 'Генподрядчик', 'Кол-во рабочих']]"
   ]
  },
  {
   "cell_type": "markdown",
   "id": "4f189a5c",
   "metadata": {
    "papermill": {
     "duration": 0.008396,
     "end_time": "2023-06-25T05:21:36.426824",
     "exception": false,
     "start_time": "2023-06-25T05:21:36.418428",
     "status": "completed"
    },
    "tags": []
   },
   "source": [
    "Много дубликатов (повторяются еженедельно отчеты о том, что типо ничего не сдвинулось == все данные одинаковые)"
   ]
  },
  {
   "cell_type": "code",
   "execution_count": 8,
   "id": "acfee426",
   "metadata": {
    "execution": {
     "iopub.execute_input": "2023-06-25T05:21:36.445712Z",
     "iopub.status.busy": "2023-06-25T05:21:36.445347Z",
     "iopub.status.idle": "2023-06-25T05:21:36.776439Z",
     "shell.execute_reply": "2023-06-25T05:21:36.775358Z"
    },
    "papermill": {
     "duration": 0.343681,
     "end_time": "2023-06-25T05:21:36.779030",
     "exception": false,
     "start_time": "2023-06-25T05:21:36.435349",
     "status": "completed"
    },
    "tags": []
   },
   "outputs": [],
   "source": [
    "train.drop_duplicates(inplace = True)"
   ]
  },
  {
   "cell_type": "markdown",
   "id": "3961b8f8",
   "metadata": {
    "papermill": {
     "duration": 0.008483,
     "end_time": "2023-06-25T05:21:36.796267",
     "exception": false,
     "start_time": "2023-06-25T05:21:36.787784",
     "status": "completed"
    },
    "tags": []
   },
   "source": [
    "Для каждой из тасок обучим свою модель + поменяем всю фигню, чтобы работало"
   ]
  },
  {
   "cell_type": "code",
   "execution_count": 9,
   "id": "589f8fec",
   "metadata": {
    "execution": {
     "iopub.execute_input": "2023-06-25T05:21:36.816458Z",
     "iopub.status.busy": "2023-06-25T05:21:36.815315Z",
     "iopub.status.idle": "2023-06-25T05:21:36.834321Z",
     "shell.execute_reply": "2023-06-25T05:21:36.833274Z"
    },
    "papermill": {
     "duration": 0.032183,
     "end_time": "2023-06-25T05:21:36.837101",
     "exception": false,
     "start_time": "2023-06-25T05:21:36.804918",
     "status": "completed"
    },
    "tags": []
   },
   "outputs": [],
   "source": [
    "tasks_list = list(tasks.values())\n",
    "tasks_list = [x.lower() for x in tasks_list]\n",
    "tasks_list[5] = 'утверждение перечня тхо в донм'\n",
    "train['состояние площадки'] = train['состояние площадки'].fillna('')"
   ]
  },
  {
   "cell_type": "code",
   "execution_count": 10,
   "id": "19bf10e5",
   "metadata": {
    "execution": {
     "iopub.execute_input": "2023-06-25T05:21:36.857230Z",
     "iopub.status.busy": "2023-06-25T05:21:36.856840Z",
     "iopub.status.idle": "2023-06-25T05:22:00.188454Z",
     "shell.execute_reply": "2023-06-25T05:22:00.187210Z"
    },
    "papermill": {
     "duration": 23.34487,
     "end_time": "2023-06-25T05:22:00.191330",
     "exception": false,
     "start_time": "2023-06-25T05:21:36.846460",
     "status": "completed"
    },
    "tags": []
   },
   "outputs": [
    {
     "name": "stdout",
     "output_type": "stream",
     "text": [
      "предпроектные работы\n",
      "заключение дазу на период строительства\n",
      "проектно-изыскательские работы\n",
      "задание на проектирование\n",
      "разработка и согласование апр\n",
      "утверждение перечня тхо в донм\n",
      "разработка проектно-сметной документации (стадия п)\n",
      "экспертиза проекта\n",
      "разработка рабочей документации\n",
      "строительно-монтажные работы\n",
      "разрешение на строительство\n",
      "подготовительные работы\n",
      "земляные работы (котлован)\n",
      "монолитные работы\n",
      "кровля\n",
      "устройство фасадов и остекление (закрытие контутра)\n",
      "внутренние инженерные системы\n",
      "технологическое оборудование\n",
      "отделочные работы\n",
      "пнр\n",
      "наружные инженерные сети\n",
      "благоустройство\n",
      "завершение строительства и приемка работ\n",
      "комплексные испытания\n",
      "проведение итоговой проверки мгсн\n",
      "получение заключения о соответствии\n",
      "разрешение на ввод в эксплуатацию\n",
      "передача объекта на баланс эксплуатирующей организации\n"
     ]
    }
   ],
   "source": [
    "cat_features = ['obj_prg', 'obj_subprg', 'состояние площадки']\n",
    "\n",
    "# features - итоговый список фичей!\n",
    "\n",
    "features = ['obj_prg', 'obj_subprg','состояние площадки', 'ПроцентЗавершенияЗадачи',\n",
    "       'plan_time', 'Площадь',\n",
    "       'Генпроектировщик', 'Генподрядчик', 'Кол-во рабочих']\n",
    "\n",
    "for cat in cat_features:\n",
    "    train[cat] = train[cat].astype('string')\n",
    "\n",
    "train['НазваниеЗадачи'] = train['НазваниеЗадачи'].str.lower()    \n",
    "    \n",
    "for task in tasks_list:\n",
    "    model = cb.CatBoostRegressor()\n",
    "    print(task)\n",
    "    \n",
    "    #Создаем трейн и модель только для каждой из таргетных задач\n",
    "    \n",
    "    cb_train = train[train['НазваниеЗадачи'] == task]\n",
    "    \n",
    "    model.fit(cb_train[features], cb_train['target'], cat_features = cat_features,  verbose = 0)\n",
    "    model.save_model('CAT_{}.cbm'.format(task))"
   ]
  },
  {
   "cell_type": "code",
   "execution_count": 11,
   "id": "143c2f13",
   "metadata": {
    "execution": {
     "iopub.execute_input": "2023-06-25T05:22:00.217703Z",
     "iopub.status.busy": "2023-06-25T05:22:00.215468Z",
     "iopub.status.idle": "2023-06-25T05:22:18.909802Z",
     "shell.execute_reply": "2023-06-25T05:22:18.908684Z"
    },
    "papermill": {
     "duration": 18.709968,
     "end_time": "2023-06-25T05:22:18.912764",
     "exception": false,
     "start_time": "2023-06-25T05:22:00.202796",
     "status": "completed"
    },
    "tags": []
   },
   "outputs": [
    {
     "data": {
      "text/html": [
       "<div>\n",
       "<style scoped>\n",
       "    .dataframe tbody tr th:only-of-type {\n",
       "        vertical-align: middle;\n",
       "    }\n",
       "\n",
       "    .dataframe tbody tr th {\n",
       "        vertical-align: top;\n",
       "    }\n",
       "\n",
       "    .dataframe thead th {\n",
       "        text-align: right;\n",
       "    }\n",
       "</style>\n",
       "<table border=\"1\" class=\"dataframe\">\n",
       "  <thead>\n",
       "    <tr style=\"text-align: right;\">\n",
       "      <th></th>\n",
       "      <th>№ п/п</th>\n",
       "      <th>obj_prg</th>\n",
       "      <th>obj_subprg</th>\n",
       "      <th>obj_key</th>\n",
       "      <th>obj_shortName</th>\n",
       "      <th>Кодзадачи</th>\n",
       "      <th>НазваниеЗадачи</th>\n",
       "      <th>ПроцентЗавершенияЗадачи</th>\n",
       "      <th>ДатаНачалаЗадачи</th>\n",
       "      <th>ДатаОкончанияЗадачи</th>\n",
       "      <th>ДатаначалаБП0</th>\n",
       "      <th>ДатаокончанияБП0</th>\n",
       "      <th>Статуспоэкспертизе</th>\n",
       "      <th>Экспертиза</th>\n",
       "    </tr>\n",
       "  </thead>\n",
       "  <tbody>\n",
       "    <tr>\n",
       "      <th>0</th>\n",
       "      <td>36</td>\n",
       "      <td>Образование</td>\n",
       "      <td>Дошкольные учреждения</td>\n",
       "      <td>020-0684</td>\n",
       "      <td>ДОУ на 125, ТПУ \"Мневники\"</td>\n",
       "      <td>1</td>\n",
       "      <td>Предпроектные работы</td>\n",
       "      <td>0.0</td>\n",
       "      <td>2020-11-03</td>\n",
       "      <td>2022-02-01</td>\n",
       "      <td>2020-11-03</td>\n",
       "      <td>2021-12-29</td>\n",
       "      <td>NaN</td>\n",
       "      <td>NaN</td>\n",
       "    </tr>\n",
       "    <tr>\n",
       "      <th>1</th>\n",
       "      <td>35</td>\n",
       "      <td>Образование</td>\n",
       "      <td>Дошкольные учреждения</td>\n",
       "      <td>019-0589</td>\n",
       "      <td>ДОУ на 225, ТПУ \"Мневники\"</td>\n",
       "      <td>1</td>\n",
       "      <td>Предпроектные работы</td>\n",
       "      <td>0.0</td>\n",
       "      <td>2020-11-03</td>\n",
       "      <td>2022-05-16</td>\n",
       "      <td>2020-11-03</td>\n",
       "      <td>2021-12-29</td>\n",
       "      <td>NaN</td>\n",
       "      <td>NaN</td>\n",
       "    </tr>\n",
       "    <tr>\n",
       "      <th>2</th>\n",
       "      <td>61</td>\n",
       "      <td>Образование</td>\n",
       "      <td>Общеобразовательные учреждения</td>\n",
       "      <td>019-0594</td>\n",
       "      <td>Школа на 800, ТПУ \"Мневники\"</td>\n",
       "      <td>1</td>\n",
       "      <td>Предпроектные работы</td>\n",
       "      <td>0.0</td>\n",
       "      <td>2021-05-04</td>\n",
       "      <td>2021-12-15</td>\n",
       "      <td>2021-05-04</td>\n",
       "      <td>2021-12-15</td>\n",
       "      <td>NaN</td>\n",
       "      <td>NaN</td>\n",
       "    </tr>\n",
       "    <tr>\n",
       "      <th>3</th>\n",
       "      <td>89</td>\n",
       "      <td>Культура</td>\n",
       "      <td>Культурные центры</td>\n",
       "      <td>021-0458</td>\n",
       "      <td>КСЦ \"Печатники\", Полбина</td>\n",
       "      <td>1</td>\n",
       "      <td>Предпроектные работы</td>\n",
       "      <td>100.0</td>\n",
       "      <td>2021-10-12</td>\n",
       "      <td>2023-05-29</td>\n",
       "      <td>2021-10-12</td>\n",
       "      <td>2023-05-12</td>\n",
       "      <td>NaN</td>\n",
       "      <td>NaN</td>\n",
       "    </tr>\n",
       "    <tr>\n",
       "      <th>4</th>\n",
       "      <td>34</td>\n",
       "      <td>Образование</td>\n",
       "      <td>Дошкольные учреждения</td>\n",
       "      <td>017-0520</td>\n",
       "      <td>ДОУ на 350, ул. 6-я Радиальная и ул. Дуговая</td>\n",
       "      <td>1</td>\n",
       "      <td>Предпроектные работы</td>\n",
       "      <td>100.0</td>\n",
       "      <td>2018-11-01</td>\n",
       "      <td>2022-02-15</td>\n",
       "      <td>2018-11-01</td>\n",
       "      <td>2022-02-15</td>\n",
       "      <td>NaN</td>\n",
       "      <td>NaN</td>\n",
       "    </tr>\n",
       "  </tbody>\n",
       "</table>\n",
       "</div>"
      ],
      "text/plain": [
       "   № п/п      obj_prg                      obj_subprg   obj_key  \\\n",
       "0     36  Образование           Дошкольные учреждения  020-0684   \n",
       "1     35  Образование           Дошкольные учреждения  019-0589   \n",
       "2     61  Образование  Общеобразовательные учреждения  019-0594   \n",
       "3     89     Культура               Культурные центры  021-0458   \n",
       "4     34  Образование           Дошкольные учреждения  017-0520   \n",
       "\n",
       "                                  obj_shortName Кодзадачи  \\\n",
       "0                    ДОУ на 125, ТПУ \"Мневники\"         1   \n",
       "1                    ДОУ на 225, ТПУ \"Мневники\"         1   \n",
       "2                  Школа на 800, ТПУ \"Мневники\"         1   \n",
       "3                      КСЦ \"Печатники\", Полбина         1   \n",
       "4  ДОУ на 350, ул. 6-я Радиальная и ул. Дуговая         1   \n",
       "\n",
       "         НазваниеЗадачи  ПроцентЗавершенияЗадачи ДатаНачалаЗадачи  \\\n",
       "0  Предпроектные работы                      0.0       2020-11-03   \n",
       "1  Предпроектные работы                      0.0       2020-11-03   \n",
       "2  Предпроектные работы                      0.0       2021-05-04   \n",
       "3  Предпроектные работы                    100.0       2021-10-12   \n",
       "4  Предпроектные работы                    100.0       2018-11-01   \n",
       "\n",
       "  ДатаОкончанияЗадачи ДатаначалаБП0 ДатаокончанияБП0  Статуспоэкспертизе  \\\n",
       "0          2022-02-01    2020-11-03       2021-12-29                 NaN   \n",
       "1          2022-05-16    2020-11-03       2021-12-29                 NaN   \n",
       "2          2021-12-15    2021-05-04       2021-12-15                 NaN   \n",
       "3          2023-05-29    2021-10-12       2023-05-12                 NaN   \n",
       "4          2022-02-15    2018-11-01       2022-02-15                 NaN   \n",
       "\n",
       "  Экспертиза  \n",
       "0        NaN  \n",
       "1        NaN  \n",
       "2        NaN  \n",
       "3        NaN  \n",
       "4        NaN  "
      ]
     },
     "execution_count": 11,
     "metadata": {},
     "output_type": "execute_result"
    }
   ],
   "source": [
    "# inference \n",
    "\n",
    "test_ex = pd.read_excel('/kaggle/input/hackaton-dc/test.xlsx')\n",
    "test_ex.head()"
   ]
  },
  {
   "cell_type": "code",
   "execution_count": 12,
   "id": "269b96d2",
   "metadata": {
    "execution": {
     "iopub.execute_input": "2023-06-25T05:22:18.939381Z",
     "iopub.status.busy": "2023-06-25T05:22:18.938234Z",
     "iopub.status.idle": "2023-06-25T05:22:18.943223Z",
     "shell.execute_reply": "2023-06-25T05:22:18.942104Z"
    },
    "papermill": {
     "duration": 0.020886,
     "end_time": "2023-06-25T05:22:18.945637",
     "exception": false,
     "start_time": "2023-06-25T05:22:18.924751",
     "status": "completed"
    },
    "tags": []
   },
   "outputs": [],
   "source": [
    "#test_ex['obj_key'].iloc[0] = \"022-017\""
   ]
  },
  {
   "cell_type": "code",
   "execution_count": 13,
   "id": "7245d472",
   "metadata": {
    "execution": {
     "iopub.execute_input": "2023-06-25T05:22:18.971485Z",
     "iopub.status.busy": "2023-06-25T05:22:18.970768Z",
     "iopub.status.idle": "2023-06-25T05:22:18.984163Z",
     "shell.execute_reply": "2023-06-25T05:22:18.983316Z"
    },
    "papermill": {
     "duration": 0.030254,
     "end_time": "2023-06-25T05:22:18.987855",
     "exception": false,
     "start_time": "2023-06-25T05:22:18.957601",
     "status": "completed"
    },
    "tags": []
   },
   "outputs": [
    {
     "data": {
      "text/html": [
       "<div>\n",
       "<style scoped>\n",
       "    .dataframe tbody tr th:only-of-type {\n",
       "        vertical-align: middle;\n",
       "    }\n",
       "\n",
       "    .dataframe tbody tr th {\n",
       "        vertical-align: top;\n",
       "    }\n",
       "\n",
       "    .dataframe thead th {\n",
       "        text-align: right;\n",
       "    }\n",
       "</style>\n",
       "<table border=\"1\" class=\"dataframe\">\n",
       "  <thead>\n",
       "    <tr style=\"text-align: right;\">\n",
       "      <th></th>\n",
       "      <th>obj_key</th>\n",
       "      <th>состояние площадки</th>\n",
       "      <th>Площадь</th>\n",
       "      <th>Генпроектировщик</th>\n",
       "      <th>Генподрядчик</th>\n",
       "      <th>Кол-во рабочих</th>\n",
       "      <th>date_report</th>\n",
       "    </tr>\n",
       "  </thead>\n",
       "  <tbody>\n",
       "    <tr>\n",
       "      <th>0</th>\n",
       "      <td>022-0170</td>\n",
       "      <td>Свободна, передана</td>\n",
       "      <td>16402.54</td>\n",
       "      <td>1</td>\n",
       "      <td>2</td>\n",
       "      <td>271.0</td>\n",
       "      <td>2023.01.20</td>\n",
       "    </tr>\n",
       "    <tr>\n",
       "      <th>1</th>\n",
       "      <td>022-0526</td>\n",
       "      <td>NaN</td>\n",
       "      <td>18100.00</td>\n",
       "      <td>0</td>\n",
       "      <td>0</td>\n",
       "      <td>NaN</td>\n",
       "      <td>2023.01.20</td>\n",
       "    </tr>\n",
       "    <tr>\n",
       "      <th>2</th>\n",
       "      <td>022-0527</td>\n",
       "      <td>Не передана</td>\n",
       "      <td>9850.00</td>\n",
       "      <td>0</td>\n",
       "      <td>0</td>\n",
       "      <td>NaN</td>\n",
       "      <td>2023.01.20</td>\n",
       "    </tr>\n",
       "    <tr>\n",
       "      <th>3</th>\n",
       "      <td>022-0522</td>\n",
       "      <td>Не передана</td>\n",
       "      <td>13260.00</td>\n",
       "      <td>0</td>\n",
       "      <td>0</td>\n",
       "      <td>NaN</td>\n",
       "      <td>2023.01.20</td>\n",
       "    </tr>\n",
       "    <tr>\n",
       "      <th>4</th>\n",
       "      <td>022-0355</td>\n",
       "      <td>Не передана под снос (для объектов сноса)</td>\n",
       "      <td>NaN</td>\n",
       "      <td>1</td>\n",
       "      <td>2</td>\n",
       "      <td>NaN</td>\n",
       "      <td>2023.01.20</td>\n",
       "    </tr>\n",
       "  </tbody>\n",
       "</table>\n",
       "</div>"
      ],
      "text/plain": [
       "    obj_key                         состояние площадки   Площадь  \\\n",
       "0  022-0170                         Свободна, передана  16402.54   \n",
       "1  022-0526                                        NaN  18100.00   \n",
       "2  022-0527                                Не передана   9850.00   \n",
       "3  022-0522                                Не передана  13260.00   \n",
       "4  022-0355  Не передана под снос (для объектов сноса)       NaN   \n",
       "\n",
       "   Генпроектировщик  Генподрядчик  Кол-во рабочих date_report  \n",
       "0                 1             2           271.0  2023.01.20  \n",
       "1                 0             0             NaN  2023.01.20  \n",
       "2                 0             0             NaN  2023.01.20  \n",
       "3                 0             0             NaN  2023.01.20  \n",
       "4                 1             2             NaN  2023.01.20  "
      ]
     },
     "execution_count": 13,
     "metadata": {},
     "output_type": "execute_result"
    }
   ],
   "source": [
    "attr.head()"
   ]
  },
  {
   "cell_type": "code",
   "execution_count": 14,
   "id": "1e974b61",
   "metadata": {
    "execution": {
     "iopub.execute_input": "2023-06-25T05:22:19.014604Z",
     "iopub.status.busy": "2023-06-25T05:22:19.013950Z",
     "iopub.status.idle": "2023-06-25T05:22:20.161222Z",
     "shell.execute_reply": "2023-06-25T05:22:20.160371Z"
    },
    "papermill": {
     "duration": 1.162927,
     "end_time": "2023-06-25T05:22:20.163373",
     "exception": false,
     "start_time": "2023-06-25T05:22:19.000446",
     "status": "completed"
    },
    "tags": []
   },
   "outputs": [
    {
     "data": {
      "text/html": [
       "<div>\n",
       "<style scoped>\n",
       "    .dataframe tbody tr th:only-of-type {\n",
       "        vertical-align: middle;\n",
       "    }\n",
       "\n",
       "    .dataframe tbody tr th {\n",
       "        vertical-align: top;\n",
       "    }\n",
       "\n",
       "    .dataframe thead th {\n",
       "        text-align: right;\n",
       "    }\n",
       "</style>\n",
       "<table border=\"1\" class=\"dataframe\">\n",
       "  <thead>\n",
       "    <tr style=\"text-align: right;\">\n",
       "      <th></th>\n",
       "      <th>№ п/п</th>\n",
       "      <th>obj_prg</th>\n",
       "      <th>obj_subprg</th>\n",
       "      <th>obj_key</th>\n",
       "      <th>obj_shortName</th>\n",
       "      <th>Кодзадачи</th>\n",
       "      <th>НазваниеЗадачи</th>\n",
       "      <th>ПроцентЗавершенияЗадачи</th>\n",
       "      <th>ДатаНачалаЗадачи</th>\n",
       "      <th>ДатаОкончанияЗадачи</th>\n",
       "      <th>ДатаначалаБП0</th>\n",
       "      <th>ДатаокончанияБП0</th>\n",
       "      <th>Статуспоэкспертизе</th>\n",
       "      <th>Экспертиза</th>\n",
       "      <th>состояние площадки</th>\n",
       "      <th>Площадь</th>\n",
       "      <th>Генпроектировщик</th>\n",
       "      <th>Генподрядчик</th>\n",
       "      <th>Кол-во рабочих</th>\n",
       "      <th>date_report</th>\n",
       "    </tr>\n",
       "  </thead>\n",
       "  <tbody>\n",
       "    <tr>\n",
       "      <th>0</th>\n",
       "      <td>36</td>\n",
       "      <td>Образование</td>\n",
       "      <td>Дошкольные учреждения</td>\n",
       "      <td>020-0684</td>\n",
       "      <td>ДОУ на 125, ТПУ \"Мневники\"</td>\n",
       "      <td>1</td>\n",
       "      <td>Предпроектные работы</td>\n",
       "      <td>0.0</td>\n",
       "      <td>2020-11-03</td>\n",
       "      <td>2022-02-01</td>\n",
       "      <td>2020-11-03</td>\n",
       "      <td>2021-12-29</td>\n",
       "      <td>NaN</td>\n",
       "      <td>NaN</td>\n",
       "      <td>NaN</td>\n",
       "      <td>NaN</td>\n",
       "      <td>NaN</td>\n",
       "      <td>NaN</td>\n",
       "      <td>NaN</td>\n",
       "      <td>NaN</td>\n",
       "    </tr>\n",
       "    <tr>\n",
       "      <th>1</th>\n",
       "      <td>35</td>\n",
       "      <td>Образование</td>\n",
       "      <td>Дошкольные учреждения</td>\n",
       "      <td>019-0589</td>\n",
       "      <td>ДОУ на 225, ТПУ \"Мневники\"</td>\n",
       "      <td>1</td>\n",
       "      <td>Предпроектные работы</td>\n",
       "      <td>0.0</td>\n",
       "      <td>2020-11-03</td>\n",
       "      <td>2022-05-16</td>\n",
       "      <td>2020-11-03</td>\n",
       "      <td>2021-12-29</td>\n",
       "      <td>NaN</td>\n",
       "      <td>NaN</td>\n",
       "      <td>NaN</td>\n",
       "      <td>NaN</td>\n",
       "      <td>NaN</td>\n",
       "      <td>NaN</td>\n",
       "      <td>NaN</td>\n",
       "      <td>NaN</td>\n",
       "    </tr>\n",
       "    <tr>\n",
       "      <th>2</th>\n",
       "      <td>61</td>\n",
       "      <td>Образование</td>\n",
       "      <td>Общеобразовательные учреждения</td>\n",
       "      <td>019-0594</td>\n",
       "      <td>Школа на 800, ТПУ \"Мневники\"</td>\n",
       "      <td>1</td>\n",
       "      <td>Предпроектные работы</td>\n",
       "      <td>0.0</td>\n",
       "      <td>2021-05-04</td>\n",
       "      <td>2021-12-15</td>\n",
       "      <td>2021-05-04</td>\n",
       "      <td>2021-12-15</td>\n",
       "      <td>NaN</td>\n",
       "      <td>NaN</td>\n",
       "      <td>Занята</td>\n",
       "      <td>17488.0</td>\n",
       "      <td>1.0</td>\n",
       "      <td>2.0</td>\n",
       "      <td>NaN</td>\n",
       "      <td>2023.01.20</td>\n",
       "    </tr>\n",
       "    <tr>\n",
       "      <th>3</th>\n",
       "      <td>61</td>\n",
       "      <td>Образование</td>\n",
       "      <td>Общеобразовательные учреждения</td>\n",
       "      <td>019-0594</td>\n",
       "      <td>Школа на 800, ТПУ \"Мневники\"</td>\n",
       "      <td>1</td>\n",
       "      <td>Предпроектные работы</td>\n",
       "      <td>0.0</td>\n",
       "      <td>2021-05-04</td>\n",
       "      <td>2021-12-15</td>\n",
       "      <td>2021-05-04</td>\n",
       "      <td>2021-12-15</td>\n",
       "      <td>NaN</td>\n",
       "      <td>NaN</td>\n",
       "      <td>Занята</td>\n",
       "      <td>17488.0</td>\n",
       "      <td>1.0</td>\n",
       "      <td>2.0</td>\n",
       "      <td>NaN</td>\n",
       "      <td>2023.01.27</td>\n",
       "    </tr>\n",
       "    <tr>\n",
       "      <th>4</th>\n",
       "      <td>61</td>\n",
       "      <td>Образование</td>\n",
       "      <td>Общеобразовательные учреждения</td>\n",
       "      <td>019-0594</td>\n",
       "      <td>Школа на 800, ТПУ \"Мневники\"</td>\n",
       "      <td>1</td>\n",
       "      <td>Предпроектные работы</td>\n",
       "      <td>0.0</td>\n",
       "      <td>2021-05-04</td>\n",
       "      <td>2021-12-15</td>\n",
       "      <td>2021-05-04</td>\n",
       "      <td>2021-12-15</td>\n",
       "      <td>NaN</td>\n",
       "      <td>NaN</td>\n",
       "      <td>Занята</td>\n",
       "      <td>17488.0</td>\n",
       "      <td>1.0</td>\n",
       "      <td>2.0</td>\n",
       "      <td>NaN</td>\n",
       "      <td>2023.01.31</td>\n",
       "    </tr>\n",
       "  </tbody>\n",
       "</table>\n",
       "</div>"
      ],
      "text/plain": [
       "   № п/п      obj_prg                      obj_subprg   obj_key  \\\n",
       "0     36  Образование           Дошкольные учреждения  020-0684   \n",
       "1     35  Образование           Дошкольные учреждения  019-0589   \n",
       "2     61  Образование  Общеобразовательные учреждения  019-0594   \n",
       "3     61  Образование  Общеобразовательные учреждения  019-0594   \n",
       "4     61  Образование  Общеобразовательные учреждения  019-0594   \n",
       "\n",
       "                  obj_shortName Кодзадачи        НазваниеЗадачи  \\\n",
       "0    ДОУ на 125, ТПУ \"Мневники\"         1  Предпроектные работы   \n",
       "1    ДОУ на 225, ТПУ \"Мневники\"         1  Предпроектные работы   \n",
       "2  Школа на 800, ТПУ \"Мневники\"         1  Предпроектные работы   \n",
       "3  Школа на 800, ТПУ \"Мневники\"         1  Предпроектные работы   \n",
       "4  Школа на 800, ТПУ \"Мневники\"         1  Предпроектные работы   \n",
       "\n",
       "   ПроцентЗавершенияЗадачи ДатаНачалаЗадачи ДатаОкончанияЗадачи ДатаначалаБП0  \\\n",
       "0                      0.0       2020-11-03          2022-02-01    2020-11-03   \n",
       "1                      0.0       2020-11-03          2022-05-16    2020-11-03   \n",
       "2                      0.0       2021-05-04          2021-12-15    2021-05-04   \n",
       "3                      0.0       2021-05-04          2021-12-15    2021-05-04   \n",
       "4                      0.0       2021-05-04          2021-12-15    2021-05-04   \n",
       "\n",
       "  ДатаокончанияБП0  Статуспоэкспертизе Экспертиза состояние площадки  Площадь  \\\n",
       "0       2021-12-29                 NaN        NaN                NaN      NaN   \n",
       "1       2021-12-29                 NaN        NaN                NaN      NaN   \n",
       "2       2021-12-15                 NaN        NaN             Занята  17488.0   \n",
       "3       2021-12-15                 NaN        NaN             Занята  17488.0   \n",
       "4       2021-12-15                 NaN        NaN             Занята  17488.0   \n",
       "\n",
       "   Генпроектировщик  Генподрядчик  Кол-во рабочих date_report  \n",
       "0               NaN           NaN             NaN         NaN  \n",
       "1               NaN           NaN             NaN         NaN  \n",
       "2               1.0           2.0             NaN  2023.01.20  \n",
       "3               1.0           2.0             NaN  2023.01.27  \n",
       "4               1.0           2.0             NaN  2023.01.31  "
      ]
     },
     "execution_count": 14,
     "metadata": {},
     "output_type": "execute_result"
    }
   ],
   "source": [
    "merged_test = pd.merge(test_ex, attr, on='obj_key', how='left')\n",
    "merged_test.head()"
   ]
  },
  {
   "cell_type": "code",
   "execution_count": 15,
   "id": "5f4f0f50",
   "metadata": {
    "execution": {
     "iopub.execute_input": "2023-06-25T05:22:20.190713Z",
     "iopub.status.busy": "2023-06-25T05:22:20.190054Z",
     "iopub.status.idle": "2023-06-25T05:23:00.876508Z",
     "shell.execute_reply": "2023-06-25T05:23:00.875427Z"
    },
    "papermill": {
     "duration": 40.703675,
     "end_time": "2023-06-25T05:23:00.879363",
     "exception": false,
     "start_time": "2023-06-25T05:22:20.175688",
     "status": "completed"
    },
    "tags": []
   },
   "outputs": [],
   "source": [
    "\n",
    "merged_test['ДатаНачалаЗадачи'] = pd.to_datetime(merged_test['ДатаНачалаЗадачи'])\n",
    "merged_test['ДатаОкончанияЗадачи'] = pd.to_datetime(merged_test['ДатаОкончанияЗадачи'])\n",
    "merged_test['ДатаначалаБП0'] = pd.to_datetime(merged_test['ДатаначалаБП0'])\n",
    "merged_test['ДатаокончанияБП0'] = pd.to_datetime(merged_test['ДатаокончанияБП0'])\n",
    "\n",
    "# переводим в юникс время\n",
    "merged_test['ДатаНачалаЗадачи'] = merged_test['ДатаНачалаЗадачи'].fillna('1970-01-01 00:00:00')\n",
    "merged_test['ДатаОкончанияЗадачи'] = merged_test['ДатаОкончанияЗадачи'].fillna('1970-01-01 00:00:00')\n",
    "merged_test['ДатаначалаБП0'] = merged_test['ДатаначалаБП0'].fillna('1970-01-01 00:00:00')\n",
    "merged_test['ДатаокончанияБП0'] = merged_test['ДатаокончанияБП0'].fillna('1970-01-01 00:00:00')\n",
    "merged_test['ДатаНачалаЗадачи'] = merged_test['ДатаНачалаЗадачи'].apply(lambda x: x.timestamp())\n",
    "merged_test['ДатаОкончанияЗадачи'] = merged_test['ДатаОкончанияЗадачи'].apply(lambda x: x.timestamp())\n",
    "merged_test['ДатаначалаБП0'] = merged_test['ДатаначалаБП0'].apply(lambda x: x.timestamp())\n",
    "merged_test['ДатаокончанияБП0'] = merged_test['ДатаокончанияБП0'].apply(lambda x: x.timestamp())\n",
    "\n",
    "# создаем колонку таргета. Идея такая: предсказываем таргет (= время в секундах от начала до конца задачи)\n",
    "# переводим секунды в дни, прибавляем к дате начала задачи семпла - получаем ответ\n",
    "\n",
    "\n",
    "# target перевожу в дни - будем предиктить число дней\n",
    "# фича plan_time - кол-во дней между плановой датой окончания и начала по договору\n",
    "\n",
    "#merged_test['fact_time'] = 0\n",
    "#merged_test['fact_time'] = (merged_test['ДатаОкончанияЗадачи'] - merged_test['ДатаНачалаЗадачи'])/60/60/24\n",
    "merged_test['plan_time'] = 0\n",
    "merged_test['plan_time'] = (merged_test['ДатаокончанияБП0'] - merged_test['ДатаначалаБП0'])/60/60/24\n",
    "\n",
    "merged_test['target']=(merged_test['ДатаОкончанияЗадачи'] - merged_test['ДатаокончанияБП0'])/60/60/24"
   ]
  },
  {
   "cell_type": "code",
   "execution_count": 16,
   "id": "38cf8268",
   "metadata": {
    "execution": {
     "iopub.execute_input": "2023-06-25T05:23:00.905908Z",
     "iopub.status.busy": "2023-06-25T05:23:00.905517Z",
     "iopub.status.idle": "2023-06-25T05:23:02.171102Z",
     "shell.execute_reply": "2023-06-25T05:23:02.170025Z"
    },
    "papermill": {
     "duration": 1.281902,
     "end_time": "2023-06-25T05:23:02.173878",
     "exception": false,
     "start_time": "2023-06-25T05:23:00.891976",
     "status": "completed"
    },
    "tags": []
   },
   "outputs": [],
   "source": [
    "merged_test = merged_test[['obj_prg', 'obj_subprg', 'obj_key', 'Кодзадачи',\n",
    "       'НазваниеЗадачи', 'ПроцентЗавершенияЗадачи',\n",
    "       'plan_time', 'target', 'состояние площадки', 'Площадь',\n",
    "       'Генпроектировщик', 'Генподрядчик', 'Кол-во рабочих']]\n"
   ]
  },
  {
   "cell_type": "code",
   "execution_count": 17,
   "id": "271d20f3",
   "metadata": {
    "execution": {
     "iopub.execute_input": "2023-06-25T05:23:02.202048Z",
     "iopub.status.busy": "2023-06-25T05:23:02.201649Z",
     "iopub.status.idle": "2023-06-25T05:23:05.623046Z",
     "shell.execute_reply": "2023-06-25T05:23:05.622117Z"
    },
    "papermill": {
     "duration": 3.437833,
     "end_time": "2023-06-25T05:23:05.625575",
     "exception": false,
     "start_time": "2023-06-25T05:23:02.187742",
     "status": "completed"
    },
    "tags": []
   },
   "outputs": [],
   "source": [
    "merged_test['состояние площадки'] = merged_test['состояние площадки'].fillna('')\n",
    "cat_features = ['obj_prg', 'obj_subprg', 'состояние площадки']\n",
    "\n",
    "# features - итоговый список фичей!\n",
    "\n",
    "features = ['obj_prg', 'obj_subprg','состояние площадки', 'ПроцентЗавершенияЗадачи',\n",
    "       'plan_time', 'Площадь',\n",
    "       'Генпроектировщик', 'Генподрядчик', 'Кол-во рабочих']\n",
    "\n",
    "for cat in cat_features:\n",
    "    merged_test[cat] = merged_test[cat].astype('string')\n",
    "    \n",
    "merged_test['НазваниеЗадачи'] = merged_test['НазваниеЗадачи'].str.lower()  "
   ]
  },
  {
   "cell_type": "code",
   "execution_count": 18,
   "id": "12c32d35",
   "metadata": {
    "execution": {
     "iopub.execute_input": "2023-06-25T05:23:05.651733Z",
     "iopub.status.busy": "2023-06-25T05:23:05.651366Z",
     "iopub.status.idle": "2023-06-25T05:23:05.672959Z",
     "shell.execute_reply": "2023-06-25T05:23:05.671832Z"
    },
    "papermill": {
     "duration": 0.037502,
     "end_time": "2023-06-25T05:23:05.675378",
     "exception": false,
     "start_time": "2023-06-25T05:23:05.637876",
     "status": "completed"
    },
    "tags": []
   },
   "outputs": [
    {
     "data": {
      "text/html": [
       "<div>\n",
       "<style scoped>\n",
       "    .dataframe tbody tr th:only-of-type {\n",
       "        vertical-align: middle;\n",
       "    }\n",
       "\n",
       "    .dataframe tbody tr th {\n",
       "        vertical-align: top;\n",
       "    }\n",
       "\n",
       "    .dataframe thead th {\n",
       "        text-align: right;\n",
       "    }\n",
       "</style>\n",
       "<table border=\"1\" class=\"dataframe\">\n",
       "  <thead>\n",
       "    <tr style=\"text-align: right;\">\n",
       "      <th></th>\n",
       "      <th>obj_prg</th>\n",
       "      <th>obj_subprg</th>\n",
       "      <th>obj_key</th>\n",
       "      <th>Кодзадачи</th>\n",
       "      <th>НазваниеЗадачи</th>\n",
       "      <th>ПроцентЗавершенияЗадачи</th>\n",
       "      <th>plan_time</th>\n",
       "      <th>target</th>\n",
       "      <th>состояние площадки</th>\n",
       "      <th>Площадь</th>\n",
       "      <th>Генпроектировщик</th>\n",
       "      <th>Генподрядчик</th>\n",
       "      <th>Кол-во рабочих</th>\n",
       "    </tr>\n",
       "  </thead>\n",
       "  <tbody>\n",
       "    <tr>\n",
       "      <th>0</th>\n",
       "      <td>Образование</td>\n",
       "      <td>Дошкольные учреждения</td>\n",
       "      <td>020-0684</td>\n",
       "      <td>1</td>\n",
       "      <td>предпроектные работы</td>\n",
       "      <td>0.0</td>\n",
       "      <td>421.0</td>\n",
       "      <td>34.0</td>\n",
       "      <td></td>\n",
       "      <td>NaN</td>\n",
       "      <td>NaN</td>\n",
       "      <td>NaN</td>\n",
       "      <td>NaN</td>\n",
       "    </tr>\n",
       "    <tr>\n",
       "      <th>1</th>\n",
       "      <td>Образование</td>\n",
       "      <td>Дошкольные учреждения</td>\n",
       "      <td>019-0589</td>\n",
       "      <td>1</td>\n",
       "      <td>предпроектные работы</td>\n",
       "      <td>0.0</td>\n",
       "      <td>421.0</td>\n",
       "      <td>138.0</td>\n",
       "      <td></td>\n",
       "      <td>NaN</td>\n",
       "      <td>NaN</td>\n",
       "      <td>NaN</td>\n",
       "      <td>NaN</td>\n",
       "    </tr>\n",
       "    <tr>\n",
       "      <th>2</th>\n",
       "      <td>Образование</td>\n",
       "      <td>Общеобразовательные учреждения</td>\n",
       "      <td>019-0594</td>\n",
       "      <td>1</td>\n",
       "      <td>предпроектные работы</td>\n",
       "      <td>0.0</td>\n",
       "      <td>225.0</td>\n",
       "      <td>0.0</td>\n",
       "      <td>Занята</td>\n",
       "      <td>17488.0</td>\n",
       "      <td>1.0</td>\n",
       "      <td>2.0</td>\n",
       "      <td>NaN</td>\n",
       "    </tr>\n",
       "    <tr>\n",
       "      <th>3</th>\n",
       "      <td>Образование</td>\n",
       "      <td>Общеобразовательные учреждения</td>\n",
       "      <td>019-0594</td>\n",
       "      <td>1</td>\n",
       "      <td>предпроектные работы</td>\n",
       "      <td>0.0</td>\n",
       "      <td>225.0</td>\n",
       "      <td>0.0</td>\n",
       "      <td>Занята</td>\n",
       "      <td>17488.0</td>\n",
       "      <td>1.0</td>\n",
       "      <td>2.0</td>\n",
       "      <td>NaN</td>\n",
       "    </tr>\n",
       "    <tr>\n",
       "      <th>4</th>\n",
       "      <td>Образование</td>\n",
       "      <td>Общеобразовательные учреждения</td>\n",
       "      <td>019-0594</td>\n",
       "      <td>1</td>\n",
       "      <td>предпроектные работы</td>\n",
       "      <td>0.0</td>\n",
       "      <td>225.0</td>\n",
       "      <td>0.0</td>\n",
       "      <td>Занята</td>\n",
       "      <td>17488.0</td>\n",
       "      <td>1.0</td>\n",
       "      <td>2.0</td>\n",
       "      <td>NaN</td>\n",
       "    </tr>\n",
       "  </tbody>\n",
       "</table>\n",
       "</div>"
      ],
      "text/plain": [
       "       obj_prg                      obj_subprg   obj_key Кодзадачи  \\\n",
       "0  Образование           Дошкольные учреждения  020-0684         1   \n",
       "1  Образование           Дошкольные учреждения  019-0589         1   \n",
       "2  Образование  Общеобразовательные учреждения  019-0594         1   \n",
       "3  Образование  Общеобразовательные учреждения  019-0594         1   \n",
       "4  Образование  Общеобразовательные учреждения  019-0594         1   \n",
       "\n",
       "         НазваниеЗадачи  ПроцентЗавершенияЗадачи  plan_time  target  \\\n",
       "0  предпроектные работы                      0.0      421.0    34.0   \n",
       "1  предпроектные работы                      0.0      421.0   138.0   \n",
       "2  предпроектные работы                      0.0      225.0     0.0   \n",
       "3  предпроектные работы                      0.0      225.0     0.0   \n",
       "4  предпроектные работы                      0.0      225.0     0.0   \n",
       "\n",
       "  состояние площадки  Площадь  Генпроектировщик  Генподрядчик  Кол-во рабочих  \n",
       "0                         NaN               NaN           NaN             NaN  \n",
       "1                         NaN               NaN           NaN             NaN  \n",
       "2             Занята  17488.0               1.0           2.0             NaN  \n",
       "3             Занята  17488.0               1.0           2.0             NaN  \n",
       "4             Занята  17488.0               1.0           2.0             NaN  "
      ]
     },
     "execution_count": 18,
     "metadata": {},
     "output_type": "execute_result"
    }
   ],
   "source": [
    "merged_test.head()"
   ]
  },
  {
   "cell_type": "code",
   "execution_count": 19,
   "id": "2b2bfe93",
   "metadata": {
    "execution": {
     "iopub.execute_input": "2023-06-25T05:23:05.702152Z",
     "iopub.status.busy": "2023-06-25T05:23:05.701745Z",
     "iopub.status.idle": "2023-06-25T05:23:05.709030Z",
     "shell.execute_reply": "2023-06-25T05:23:05.707965Z"
    },
    "papermill": {
     "duration": 0.023443,
     "end_time": "2023-06-25T05:23:05.711460",
     "exception": false,
     "start_time": "2023-06-25T05:23:05.688017",
     "status": "completed"
    },
    "tags": []
   },
   "outputs": [
    {
     "data": {
      "text/plain": [
       "(2542512, 13)"
      ]
     },
     "execution_count": 19,
     "metadata": {},
     "output_type": "execute_result"
    }
   ],
   "source": [
    "merged_test.shape"
   ]
  },
  {
   "cell_type": "code",
   "execution_count": 20,
   "id": "1891d0bc",
   "metadata": {
    "execution": {
     "iopub.execute_input": "2023-06-25T05:23:05.738733Z",
     "iopub.status.busy": "2023-06-25T05:23:05.738337Z",
     "iopub.status.idle": "2023-06-25T05:23:09.983300Z",
     "shell.execute_reply": "2023-06-25T05:23:09.982112Z"
    },
    "papermill": {
     "duration": 4.261594,
     "end_time": "2023-06-25T05:23:09.985744",
     "exception": false,
     "start_time": "2023-06-25T05:23:05.724150",
     "status": "completed"
    },
    "tags": []
   },
   "outputs": [
    {
     "data": {
      "text/plain": [
       "(294759, 13)"
      ]
     },
     "execution_count": 20,
     "metadata": {},
     "output_type": "execute_result"
    }
   ],
   "source": [
    "merged_test.drop_duplicates(inplace = True)\n",
    "merged_test.shape"
   ]
  },
  {
   "cell_type": "code",
   "execution_count": 21,
   "id": "433a1e52",
   "metadata": {
    "execution": {
     "iopub.execute_input": "2023-06-25T05:23:10.013668Z",
     "iopub.status.busy": "2023-06-25T05:23:10.013295Z",
     "iopub.status.idle": "2023-06-25T05:23:12.056815Z",
     "shell.execute_reply": "2023-06-25T05:23:12.055598Z"
    },
    "papermill": {
     "duration": 2.060619,
     "end_time": "2023-06-25T05:23:12.059284",
     "exception": false,
     "start_time": "2023-06-25T05:23:09.998665",
     "status": "completed"
    },
    "tags": []
   },
   "outputs": [
    {
     "name": "stdout",
     "output_type": "stream",
     "text": [
      "предпроектные работы\n",
      "45365.037607354505\n",
      "заключение дазу на период строительства\n",
      "14346.742511248438\n",
      "проектно-изыскательские работы\n",
      "33904.320867464456\n"
     ]
    },
    {
     "name": "stderr",
     "output_type": "stream",
     "text": [
      "/tmp/ipykernel_20/488546035.py:22: SettingWithCopyWarning: \n",
      "A value is trying to be set on a copy of a slice from a DataFrame.\n",
      "Try using .loc[row_indexer,col_indexer] = value instead\n",
      "\n",
      "See the caveats in the documentation: https://pandas.pydata.org/pandas-docs/stable/user_guide/indexing.html#returning-a-view-versus-a-copy\n",
      "  task_data['predictions'] = predictions\n",
      "/tmp/ipykernel_20/488546035.py:22: SettingWithCopyWarning: \n",
      "A value is trying to be set on a copy of a slice from a DataFrame.\n",
      "Try using .loc[row_indexer,col_indexer] = value instead\n",
      "\n",
      "See the caveats in the documentation: https://pandas.pydata.org/pandas-docs/stable/user_guide/indexing.html#returning-a-view-versus-a-copy\n",
      "  task_data['predictions'] = predictions\n",
      "/tmp/ipykernel_20/488546035.py:22: SettingWithCopyWarning: \n",
      "A value is trying to be set on a copy of a slice from a DataFrame.\n",
      "Try using .loc[row_indexer,col_indexer] = value instead\n",
      "\n",
      "See the caveats in the documentation: https://pandas.pydata.org/pandas-docs/stable/user_guide/indexing.html#returning-a-view-versus-a-copy\n",
      "  task_data['predictions'] = predictions\n"
     ]
    },
    {
     "name": "stdout",
     "output_type": "stream",
     "text": [
      "задание на проектирование\n",
      "29201.42195649616\n",
      "разработка и согласование апр\n",
      "5667.5782172060435\n",
      "утверждение перечня тхо в донм\n",
      "4105.720927287734\n"
     ]
    },
    {
     "name": "stderr",
     "output_type": "stream",
     "text": [
      "/tmp/ipykernel_20/488546035.py:22: SettingWithCopyWarning: \n",
      "A value is trying to be set on a copy of a slice from a DataFrame.\n",
      "Try using .loc[row_indexer,col_indexer] = value instead\n",
      "\n",
      "See the caveats in the documentation: https://pandas.pydata.org/pandas-docs/stable/user_guide/indexing.html#returning-a-view-versus-a-copy\n",
      "  task_data['predictions'] = predictions\n",
      "/tmp/ipykernel_20/488546035.py:22: SettingWithCopyWarning: \n",
      "A value is trying to be set on a copy of a slice from a DataFrame.\n",
      "Try using .loc[row_indexer,col_indexer] = value instead\n",
      "\n",
      "See the caveats in the documentation: https://pandas.pydata.org/pandas-docs/stable/user_guide/indexing.html#returning-a-view-versus-a-copy\n",
      "  task_data['predictions'] = predictions\n",
      "/tmp/ipykernel_20/488546035.py:22: SettingWithCopyWarning: \n",
      "A value is trying to be set on a copy of a slice from a DataFrame.\n",
      "Try using .loc[row_indexer,col_indexer] = value instead\n",
      "\n",
      "See the caveats in the documentation: https://pandas.pydata.org/pandas-docs/stable/user_guide/indexing.html#returning-a-view-versus-a-copy\n",
      "  task_data['predictions'] = predictions\n"
     ]
    },
    {
     "name": "stdout",
     "output_type": "stream",
     "text": [
      "разработка проектно-сметной документации (стадия п)\n",
      "23403.12323322205\n",
      "экспертиза проекта\n",
      "23986.68888770014\n",
      "разработка рабочей документации\n",
      "30109.42354431704\n"
     ]
    },
    {
     "name": "stderr",
     "output_type": "stream",
     "text": [
      "/tmp/ipykernel_20/488546035.py:22: SettingWithCopyWarning: \n",
      "A value is trying to be set on a copy of a slice from a DataFrame.\n",
      "Try using .loc[row_indexer,col_indexer] = value instead\n",
      "\n",
      "See the caveats in the documentation: https://pandas.pydata.org/pandas-docs/stable/user_guide/indexing.html#returning-a-view-versus-a-copy\n",
      "  task_data['predictions'] = predictions\n",
      "/tmp/ipykernel_20/488546035.py:22: SettingWithCopyWarning: \n",
      "A value is trying to be set on a copy of a slice from a DataFrame.\n",
      "Try using .loc[row_indexer,col_indexer] = value instead\n",
      "\n",
      "See the caveats in the documentation: https://pandas.pydata.org/pandas-docs/stable/user_guide/indexing.html#returning-a-view-versus-a-copy\n",
      "  task_data['predictions'] = predictions\n",
      "/tmp/ipykernel_20/488546035.py:22: SettingWithCopyWarning: \n",
      "A value is trying to be set on a copy of a slice from a DataFrame.\n",
      "Try using .loc[row_indexer,col_indexer] = value instead\n",
      "\n",
      "See the caveats in the documentation: https://pandas.pydata.org/pandas-docs/stable/user_guide/indexing.html#returning-a-view-versus-a-copy\n",
      "  task_data['predictions'] = predictions\n"
     ]
    },
    {
     "name": "stdout",
     "output_type": "stream",
     "text": [
      "строительно-монтажные работы\n",
      "31051.029278983275\n",
      "разрешение на строительство\n",
      "92457.41955043167\n",
      "подготовительные работы\n",
      "25769.666566794273\n"
     ]
    },
    {
     "name": "stderr",
     "output_type": "stream",
     "text": [
      "/tmp/ipykernel_20/488546035.py:22: SettingWithCopyWarning: \n",
      "A value is trying to be set on a copy of a slice from a DataFrame.\n",
      "Try using .loc[row_indexer,col_indexer] = value instead\n",
      "\n",
      "See the caveats in the documentation: https://pandas.pydata.org/pandas-docs/stable/user_guide/indexing.html#returning-a-view-versus-a-copy\n",
      "  task_data['predictions'] = predictions\n",
      "/tmp/ipykernel_20/488546035.py:22: SettingWithCopyWarning: \n",
      "A value is trying to be set on a copy of a slice from a DataFrame.\n",
      "Try using .loc[row_indexer,col_indexer] = value instead\n",
      "\n",
      "See the caveats in the documentation: https://pandas.pydata.org/pandas-docs/stable/user_guide/indexing.html#returning-a-view-versus-a-copy\n",
      "  task_data['predictions'] = predictions\n",
      "/tmp/ipykernel_20/488546035.py:22: SettingWithCopyWarning: \n",
      "A value is trying to be set on a copy of a slice from a DataFrame.\n",
      "Try using .loc[row_indexer,col_indexer] = value instead\n",
      "\n",
      "See the caveats in the documentation: https://pandas.pydata.org/pandas-docs/stable/user_guide/indexing.html#returning-a-view-versus-a-copy\n",
      "  task_data['predictions'] = predictions\n"
     ]
    },
    {
     "name": "stdout",
     "output_type": "stream",
     "text": [
      "земляные работы (котлован)\n",
      "25450.847009221347\n",
      "монолитные работы\n",
      "16915.853949368626\n",
      "кровля\n",
      "24526.612169488166\n"
     ]
    },
    {
     "name": "stderr",
     "output_type": "stream",
     "text": [
      "/tmp/ipykernel_20/488546035.py:22: SettingWithCopyWarning: \n",
      "A value is trying to be set on a copy of a slice from a DataFrame.\n",
      "Try using .loc[row_indexer,col_indexer] = value instead\n",
      "\n",
      "See the caveats in the documentation: https://pandas.pydata.org/pandas-docs/stable/user_guide/indexing.html#returning-a-view-versus-a-copy\n",
      "  task_data['predictions'] = predictions\n",
      "/tmp/ipykernel_20/488546035.py:22: SettingWithCopyWarning: \n",
      "A value is trying to be set on a copy of a slice from a DataFrame.\n",
      "Try using .loc[row_indexer,col_indexer] = value instead\n",
      "\n",
      "See the caveats in the documentation: https://pandas.pydata.org/pandas-docs/stable/user_guide/indexing.html#returning-a-view-versus-a-copy\n",
      "  task_data['predictions'] = predictions\n",
      "/tmp/ipykernel_20/488546035.py:22: SettingWithCopyWarning: \n",
      "A value is trying to be set on a copy of a slice from a DataFrame.\n",
      "Try using .loc[row_indexer,col_indexer] = value instead\n",
      "\n",
      "See the caveats in the documentation: https://pandas.pydata.org/pandas-docs/stable/user_guide/indexing.html#returning-a-view-versus-a-copy\n",
      "  task_data['predictions'] = predictions\n"
     ]
    },
    {
     "name": "stdout",
     "output_type": "stream",
     "text": [
      "устройство фасадов и остекление (закрытие контутра)\n",
      "14674.190737158535\n",
      "внутренние инженерные системы\n",
      "31479.702974852145\n",
      "технологическое оборудование\n",
      "22304.88768821401\n"
     ]
    },
    {
     "name": "stderr",
     "output_type": "stream",
     "text": [
      "/tmp/ipykernel_20/488546035.py:22: SettingWithCopyWarning: \n",
      "A value is trying to be set on a copy of a slice from a DataFrame.\n",
      "Try using .loc[row_indexer,col_indexer] = value instead\n",
      "\n",
      "See the caveats in the documentation: https://pandas.pydata.org/pandas-docs/stable/user_guide/indexing.html#returning-a-view-versus-a-copy\n",
      "  task_data['predictions'] = predictions\n",
      "/tmp/ipykernel_20/488546035.py:22: SettingWithCopyWarning: \n",
      "A value is trying to be set on a copy of a slice from a DataFrame.\n",
      "Try using .loc[row_indexer,col_indexer] = value instead\n",
      "\n",
      "See the caveats in the documentation: https://pandas.pydata.org/pandas-docs/stable/user_guide/indexing.html#returning-a-view-versus-a-copy\n",
      "  task_data['predictions'] = predictions\n",
      "/tmp/ipykernel_20/488546035.py:22: SettingWithCopyWarning: \n",
      "A value is trying to be set on a copy of a slice from a DataFrame.\n",
      "Try using .loc[row_indexer,col_indexer] = value instead\n",
      "\n",
      "See the caveats in the documentation: https://pandas.pydata.org/pandas-docs/stable/user_guide/indexing.html#returning-a-view-versus-a-copy\n",
      "  task_data['predictions'] = predictions\n"
     ]
    },
    {
     "name": "stdout",
     "output_type": "stream",
     "text": [
      "отделочные работы\n",
      "24545.209120939864\n",
      "пнр\n",
      "33656.01048736465\n",
      "наружные инженерные сети\n",
      "44516.58746087836\n"
     ]
    },
    {
     "name": "stderr",
     "output_type": "stream",
     "text": [
      "/tmp/ipykernel_20/488546035.py:22: SettingWithCopyWarning: \n",
      "A value is trying to be set on a copy of a slice from a DataFrame.\n",
      "Try using .loc[row_indexer,col_indexer] = value instead\n",
      "\n",
      "See the caveats in the documentation: https://pandas.pydata.org/pandas-docs/stable/user_guide/indexing.html#returning-a-view-versus-a-copy\n",
      "  task_data['predictions'] = predictions\n",
      "/tmp/ipykernel_20/488546035.py:22: SettingWithCopyWarning: \n",
      "A value is trying to be set on a copy of a slice from a DataFrame.\n",
      "Try using .loc[row_indexer,col_indexer] = value instead\n",
      "\n",
      "See the caveats in the documentation: https://pandas.pydata.org/pandas-docs/stable/user_guide/indexing.html#returning-a-view-versus-a-copy\n",
      "  task_data['predictions'] = predictions\n",
      "/tmp/ipykernel_20/488546035.py:22: SettingWithCopyWarning: \n",
      "A value is trying to be set on a copy of a slice from a DataFrame.\n",
      "Try using .loc[row_indexer,col_indexer] = value instead\n",
      "\n",
      "See the caveats in the documentation: https://pandas.pydata.org/pandas-docs/stable/user_guide/indexing.html#returning-a-view-versus-a-copy\n",
      "  task_data['predictions'] = predictions\n"
     ]
    },
    {
     "name": "stdout",
     "output_type": "stream",
     "text": [
      "благоустройство\n",
      "28865.029706440684\n",
      "завершение строительства и приемка работ\n",
      "32224.271429759072\n",
      "комплексные испытания\n",
      "46051.51719704231\n"
     ]
    },
    {
     "name": "stderr",
     "output_type": "stream",
     "text": [
      "/tmp/ipykernel_20/488546035.py:22: SettingWithCopyWarning: \n",
      "A value is trying to be set on a copy of a slice from a DataFrame.\n",
      "Try using .loc[row_indexer,col_indexer] = value instead\n",
      "\n",
      "See the caveats in the documentation: https://pandas.pydata.org/pandas-docs/stable/user_guide/indexing.html#returning-a-view-versus-a-copy\n",
      "  task_data['predictions'] = predictions\n",
      "/tmp/ipykernel_20/488546035.py:22: SettingWithCopyWarning: \n",
      "A value is trying to be set on a copy of a slice from a DataFrame.\n",
      "Try using .loc[row_indexer,col_indexer] = value instead\n",
      "\n",
      "See the caveats in the documentation: https://pandas.pydata.org/pandas-docs/stable/user_guide/indexing.html#returning-a-view-versus-a-copy\n",
      "  task_data['predictions'] = predictions\n",
      "/tmp/ipykernel_20/488546035.py:22: SettingWithCopyWarning: \n",
      "A value is trying to be set on a copy of a slice from a DataFrame.\n",
      "Try using .loc[row_indexer,col_indexer] = value instead\n",
      "\n",
      "See the caveats in the documentation: https://pandas.pydata.org/pandas-docs/stable/user_guide/indexing.html#returning-a-view-versus-a-copy\n",
      "  task_data['predictions'] = predictions\n"
     ]
    },
    {
     "name": "stdout",
     "output_type": "stream",
     "text": [
      "проведение итоговой проверки мгсн\n",
      "31430.153901838334\n",
      "получение заключения о соответствии\n",
      "43748.61758023269\n",
      "разрешение на ввод в эксплуатацию\n",
      "34189.93220667823\n"
     ]
    },
    {
     "name": "stderr",
     "output_type": "stream",
     "text": [
      "/tmp/ipykernel_20/488546035.py:22: SettingWithCopyWarning: \n",
      "A value is trying to be set on a copy of a slice from a DataFrame.\n",
      "Try using .loc[row_indexer,col_indexer] = value instead\n",
      "\n",
      "See the caveats in the documentation: https://pandas.pydata.org/pandas-docs/stable/user_guide/indexing.html#returning-a-view-versus-a-copy\n",
      "  task_data['predictions'] = predictions\n",
      "/tmp/ipykernel_20/488546035.py:22: SettingWithCopyWarning: \n",
      "A value is trying to be set on a copy of a slice from a DataFrame.\n",
      "Try using .loc[row_indexer,col_indexer] = value instead\n",
      "\n",
      "See the caveats in the documentation: https://pandas.pydata.org/pandas-docs/stable/user_guide/indexing.html#returning-a-view-versus-a-copy\n",
      "  task_data['predictions'] = predictions\n",
      "/tmp/ipykernel_20/488546035.py:22: SettingWithCopyWarning: \n",
      "A value is trying to be set on a copy of a slice from a DataFrame.\n",
      "Try using .loc[row_indexer,col_indexer] = value instead\n",
      "\n",
      "See the caveats in the documentation: https://pandas.pydata.org/pandas-docs/stable/user_guide/indexing.html#returning-a-view-versus-a-copy\n",
      "  task_data['predictions'] = predictions\n"
     ]
    },
    {
     "name": "stdout",
     "output_type": "stream",
     "text": [
      "передача объекта на баланс эксплуатирующей организации\n",
      "0.0\n"
     ]
    },
    {
     "name": "stderr",
     "output_type": "stream",
     "text": [
      "No objects info loaded\n"
     ]
    }
   ],
   "source": [
    "tasks_list = list(tasks.values())\n",
    "tasks_list = [x.lower() for x in tasks_list]\n",
    "tasks_list[5] = 'утверждение перечня тхо в донм'\n",
    "models = []\n",
    "for task in tasks_list:\n",
    "    model = cb.CatBoostRegressor()\n",
    "    model.load_model('CAT_{}.cbm'.format(task))\n",
    "\n",
    "    features = ['obj_prg', 'obj_subprg','состояние площадки', 'ПроцентЗавершенияЗадачи',\n",
    "    'plan_time', 'Площадь',\n",
    "    'Генпроектировщик', 'Генподрядчик', 'Кол-во рабочих']\n",
    "\n",
    "    # Filter the merged data for the current task\n",
    "    task_data = merged_test[merged_test['НазваниеЗадачи'] == task]\n",
    "    \n",
    "    # Make predictions using the corresponding model\n",
    "    predictions = model.predict(task_data[features])\n",
    "    print(task)\n",
    "#     print(predictions)\n",
    "    print(predictions.sum())\n",
    "    # Add the predictions to the merged data\n",
    "    task_data['predictions'] = predictions\n",
    "    \n",
    "    # Do something with the predictions, such as save them to a file or database\n",
    "    task_data.to_csv('predictions_{}.csv'.format(task), index=False)"
   ]
  },
  {
   "cell_type": "code",
   "execution_count": null,
   "id": "d5165c1d",
   "metadata": {
    "papermill": {
     "duration": 0.014557,
     "end_time": "2023-06-25T05:23:12.088696",
     "exception": false,
     "start_time": "2023-06-25T05:23:12.074139",
     "status": "completed"
    },
    "tags": []
   },
   "outputs": [],
   "source": []
  },
  {
   "cell_type": "code",
   "execution_count": null,
   "id": "76188dde",
   "metadata": {
    "papermill": {
     "duration": 0.0149,
     "end_time": "2023-06-25T05:23:12.118484",
     "exception": false,
     "start_time": "2023-06-25T05:23:12.103584",
     "status": "completed"
    },
    "tags": []
   },
   "outputs": [],
   "source": [
    "\n"
   ]
  }
 ],
 "metadata": {
  "kernelspec": {
   "display_name": "Python 3",
   "language": "python",
   "name": "python3"
  },
  "language_info": {
   "codemirror_mode": {
    "name": "ipython",
    "version": 3
   },
   "file_extension": ".py",
   "mimetype": "text/x-python",
   "name": "python",
   "nbconvert_exporter": "python",
   "pygments_lexer": "ipython3",
   "version": "3.10.10"
  },
  "papermill": {
   "default_parameters": {},
   "duration": 129.556643,
   "end_time": "2023-06-25T05:23:13.456864",
   "environment_variables": {},
   "exception": null,
   "input_path": "__notebook__.ipynb",
   "output_path": "__notebook__.ipynb",
   "parameters": {},
   "start_time": "2023-06-25T05:21:03.900221",
   "version": "2.4.0"
  }
 },
 "nbformat": 4,
 "nbformat_minor": 5
}
