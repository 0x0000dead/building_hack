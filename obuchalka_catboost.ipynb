{
 "cells": [
  {
   "cell_type": "code",
   "execution_count": null,
   "id": "0d132c3f",
   "metadata": {},
   "outputs": [],
   "source": [
    "import pandas as pd\n",
    "import catboost as cb\n",
    "from datetime import date\n",
    "from dateutil.relativedelta import relativedelta"
   ]
  },
  {
   "cell_type": "code",
   "execution_count": null,
   "id": "44744af8",
   "metadata": {},
   "outputs": [],
   "source": [
    "# лоадим трейн + доп трейн\n",
    "\n",
    "train = pd.read_csv('/kaggle/input/hackaton-dc/train_dataset_Дипстрой/dataset_ksg.csv')\n",
    "attr = pd.read_csv('/kaggle/input/hackaton-dc/train_dataset_Дипстрой/attr.csv')\n",
    "\n",
    "# создаем дикт с задачами, сдвиги по которым будем предсказывать\n",
    "\n",
    "tasks_ex = pd.read_excel('/kaggle/input/hackaton-dc/train_dataset_Дипстрой/.xlsx')\n",
    "tasks = pd.Series(tasks_ex['НазваниеЗадачи'].values,index=tasks_ex['Кодзадачи']).to_dict()"
   ]
  },
  {
   "cell_type": "code",
   "execution_count": null,
   "id": "160516f7",
   "metadata": {},
   "outputs": [],
   "source": [
    "# нужно выкинуть все NaN значения по понятным причинам (если тут отсутсвтует либо дата начала, либо\n",
    "# дата окончания, то предсказание невозможно)\n",
    "\n",
    "train = train.dropna(subset=['ДатаНачалаЗадачи', 'ДатаОкончанияЗадачи','ДатаначалаБП0', 'ДатаокончанияБП0'])"
   ]
  },
  {
   "cell_type": "code",
   "execution_count": null,
   "id": "82d92613",
   "metadata": {},
   "outputs": [],
   "source": [
    "# переводим строчки в формат даты ДатаначалаБП0\n",
    "\n",
    "train['ДатаНачалаЗадачи'] = pd.to_datetime(train['ДатаНачалаЗадачи'])\n",
    "train['ДатаОкончанияЗадачи'] = pd.to_datetime(train['ДатаОкончанияЗадачи'])\n",
    "train['ДатаначалаБП0'] = pd.to_datetime(train['ДатаначалаБП0'])\n",
    "train['ДатаокончанияБП0'] = pd.to_datetime(train['ДатаокончанияБП0'])\n",
    "\n",
    "# переводим в юникс время\n",
    "\n",
    "train['ДатаНачалаЗадачи'] = train['ДатаНачалаЗадачи'].apply(lambda x: x.timestamp())\n",
    "train['ДатаОкончанияЗадачи'] = train['ДатаОкончанияЗадачи'].apply(lambda x: x.timestamp())\n",
    "train['ДатаначалаБП0'] = train['ДатаначалаБП0'].apply(lambda x: x.timestamp())\n",
    "train['ДатаокончанияБП0'] = train['ДатаокончанияБП0'].apply(lambda x: x.timestamp())\n",
    "\n",
    "# создаем колонку таргета. Идея такая: предсказываем таргет (= время в секундах от начала до конца задачи)\n",
    "# переводим секунды в дни, прибавляем к дате начала задачи семпла - получаем ответ\n",
    "\n",
    "\n",
    "# target перевожу в дни - будем предиктить число дней\n",
    "# фича plan_time - кол-во дней между плановой датой окончания и начала по договору\n",
    "\n",
    "train['fact_time'] = 0\n",
    "train['fact_time'] = (train['ДатаОкончанияЗадачи'] - train['ДатаНачалаЗадачи'])/60/60/24\n",
    "train['plan_time'] = 0\n",
    "train['plan_time'] = (train['ДатаокончанияБП0'] - train['ДатаначалаБП0'])/60/60/24\n",
    "\n",
    "train['target']=(train['ДатаОкончанияЗадачи'] - train['ДатаокончанияБП0'])/60/60/24"
   ]
  },
  {
   "cell_type": "markdown",
   "id": "7d3815c4",
   "metadata": {},
   "source": [
    "Всего 28 уникальных объектов и в аттрибутах есть лишние объекты:"
   ]
  },
  {
   "cell_type": "code",
   "execution_count": null,
   "id": "0ded730d",
   "metadata": {},
   "outputs": [],
   "source": [
    "print(len(train['obj_key'].unique()))\n",
    "print(len(attr['obj_key'].unique()))\n",
    "\n",
    "list_of_objects = train['obj_key'].unique()"
   ]
  },
  {
   "cell_type": "markdown",
   "id": "bf79faad",
   "metadata": {},
   "source": [
    "Вытянем из аттрибутов доп фичи:"
   ]
  },
  {
   "cell_type": "code",
   "execution_count": null,
   "id": "7168b45c",
   "metadata": {},
   "outputs": [],
   "source": [
    "train['состояние площадки'] = ' '\n",
    "train['Площадь'] = 0\n",
    "train['Генпроектировщик'] = 0\n",
    "train['Генподрядчик'] = 0\n",
    "train['Кол-во рабочих'] = 0\n",
    "\n",
    "for obj in list_of_objects:\n",
    "    train.loc[train['obj_key']==obj,'состояние площадки'] = attr[attr['obj_key']==obj]['состояние площадки'].values[0]\n",
    "    train.loc[train['obj_key']==obj,'Площадь'] = attr[attr['obj_key']==obj]['Площадь'].values[0]\n",
    "    train.loc[train['obj_key']==obj,'Генпроектировщик'] = attr[attr['obj_key']==obj]['Генпроектировщик'].values[0]\n",
    "    train.loc[train['obj_key']==obj,'Генподрядчик'] = attr[attr['obj_key']==obj]['Генподрядчик'].values[0]\n",
    "    train.loc[train['obj_key']==obj,'Кол-во рабочих'] = attr[attr['obj_key']==obj]['Кол-во рабочих'].values[0]"
   ]
  },
  {
   "cell_type": "markdown",
   "id": "2a6199eb",
   "metadata": {},
   "source": [
    "что не будет использоваться:\n",
    "\n",
    "Фичи 'ДатаНачалаЗадачи', 'ДатаОкончанияЗадачи','ДатаначалаБП0', 'ДатаокончанияБП0', 'Статуспоэкспертизе', 'Экспертиза', 'date_report' - не используем в модели (первые 4 берем, чтобы получить 2 новых фичи, которые уже заюзаем"
   ]
  },
  {
   "cell_type": "code",
   "execution_count": null,
   "id": "08117cde",
   "metadata": {},
   "outputs": [],
   "source": [
    "train = train[['obj_prg', 'obj_subprg', 'obj_key', 'Кодзадачи',\n",
    "       'НазваниеЗадачи', 'ПроцентЗавершенияЗадачи','fact_time',\n",
    "       'plan_time', 'target', 'состояние площадки', 'Площадь',\n",
    "       'Генпроектировщик', 'Генподрядчик', 'Кол-во рабочих']]"
   ]
  },
  {
   "cell_type": "markdown",
   "id": "80a3b4b5",
   "metadata": {},
   "source": [
    "Много дубликатов (повторяются еженедельно отчеты о том, что типо ничего не сдвинулось == все данные одинаковые)"
   ]
  },
  {
   "cell_type": "code",
   "execution_count": null,
   "id": "118abe00",
   "metadata": {},
   "outputs": [],
   "source": [
    "train.drop_duplicates(inplace = True)"
   ]
  },
  {
   "cell_type": "markdown",
   "id": "1d7701d2",
   "metadata": {},
   "source": [
    "Для каждой из тасок обучим свою модель + поменяем всю фигню, чтобы работало"
   ]
  },
  {
   "cell_type": "code",
   "execution_count": null,
   "id": "d1435a32",
   "metadata": {},
   "outputs": [],
   "source": [
    "tasks_list = list(tasks.values())\n",
    "tasks_list = [x.lower() for x in tasks_list]\n",
    "tasks_list[5] = 'утверждение перечня тхо в донм'\n",
    "train['состояние площадки'] = train['состояние площадки'].fillna('')"
   ]
  },
  {
   "cell_type": "code",
   "execution_count": null,
   "id": "dea4a550",
   "metadata": {},
   "outputs": [],
   "source": [
    "cat_features = ['obj_prg', 'obj_subprg', 'состояние площадки']\n",
    "\n",
    "# features - итоговый список фичей!\n",
    "\n",
    "features = ['obj_prg', 'obj_subprg','состояние площадки', 'ПроцентЗавершенияЗадачи','fact_time',\n",
    "       'plan_time', 'Площадь',\n",
    "       'Генпроектировщик', 'Генподрядчик', 'Кол-во рабочих']\n",
    "\n",
    "for cat in cat_features:\n",
    "    train[cat] = train[cat].astype('string')\n",
    "\n",
    "train['НазваниеЗадачи'] = train['НазваниеЗадачи'].str.lower()    \n",
    "    \n",
    "for task in tasks_list:\n",
    "    model = cb.CatBoostRegressor()\n",
    "    print(task)\n",
    "    \n",
    "    #Создаем трейн и модель только для каждой из таргетных задач\n",
    "    \n",
    "    cb_train = train[train['НазваниеЗадачи'] == task]\n",
    "    \n",
    "    model.fit(cb_train[features], cb_train['target'], cat_features = cat_features,  verbose = 0)\n",
    "    model.save_model('CAT_{}.cbm'.format(task))"
   ]
  }
 ],
 "metadata": {
  "kernelspec": {
   "display_name": "Python 3 (ipykernel)",
   "language": "python",
   "name": "python3"
  },
  "language_info": {
   "codemirror_mode": {
    "name": "ipython",
    "version": 3
   },
   "file_extension": ".py",
   "mimetype": "text/x-python",
   "name": "python",
   "nbconvert_exporter": "python",
   "pygments_lexer": "ipython3",
   "version": "3.9.13"
  }
 },
 "nbformat": 4,
 "nbformat_minor": 5
}
